"""
This is "Tic-Tac-Toe" game where there are two players - 'X' and 'O'.
The player has to choose positions (matrix notation [row][col]) to enter his choice.
If the same position is chosen again it will give another chance asking the player to enter a new position  
until the player chooses a position which is not occupied. The game ends when there is Win or all the positions are filled.

"""


#Creating an empty board
def board():
    matrix = []
    for i in range(3):
        row = []
        for j in range(3):
            row.append('-')
        matrix.append(row)
    return matrix
    
#Print the grid
def print_grid(matrix):
    for i in matrix:
        for j in i:
            print(j, end = " ")
        print()

#Change player turns
def change_player(player):
    if player=='X':
        return 'O'
    else:
        return 'X'

#Enter the players mark
def make_mark(row, column, player):
    grid[row][column] = player
    
def grid_fill():
    for row in grid:
        if '-' in row:
            return False
    return True

#Check the win
def victory(player):
    #Check rows
    win = None
    n = len(grid)
    for row in range(n):
        win = True
        for col in range(n):
            if grid[row][col] != player:
                win = False
                break
        if win:
            return win
    
    #Check columns
    for row in range(n):
        win = True
        for col in range(n):
            if grid[col][row] != player:
                win = False
                break
        if win:
            return win
    
    #Check diagonal
    win = True
    for i in range(n):
        if grid[i][i]!= player:
            win = False
            break
    if win:
        return win
        
    #Check anti-diagonal
    win = True
    for i in range(n):
        if grid[i][n-1-i]!= player:
            win = False
            break
    if win:
        return win
    
def position(player):
    check = True
    row,col =list( map(int,input(f"Enter the position you want to mark player { player}\n").split()))
    while check:
        if grid[row][col] == 'X' or grid[row][col] == 'O':
            print("Choose another position.")
            print("It's {}'s turn again".format(player))
            row,col =list( map(int,input(f"Enter the position you want to mark player { player}\n").split()))
            #position(i,j, player)
            #check = True
            #return check
        else:
            check = False
            return row,col
    
grid = board()
player = 'X'
while True:
    print_grid(grid)
    player = change_player(player)
    print("It's {}'s turn".format(player))
   # i,j =list( map(int,input(f"Enter the position you want to mark player { player}\n").split()))
    row,col = position(player)
    make_mark(row,col, player)
   
        
    if victory(player):
        print_grid(grid)
        print("{} WINS!!!".format(player))
        break
    if grid_fill():
        print_grid(grid)
        print("It's a tie. Nobody Wins!!! ")
        break
        
    
    
    
